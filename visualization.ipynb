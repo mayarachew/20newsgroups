{
 "cells": [
  {
   "cell_type": "markdown",
   "metadata": {},
   "source": [
    "### Objetivo\n",
    "Visualização das notícias do dataset 20newsgroups em um gráfico de dispersão, identificadas por seus respectivos temas."
   ]
  },
  {
   "cell_type": "markdown",
   "metadata": {},
   "source": [
    "#### Imports\n"
   ]
  },
  {
   "cell_type": "code",
   "execution_count": 1,
   "metadata": {},
   "outputs": [],
   "source": [
    "from sklearn.model_selection import train_test_split\n",
    "import warnings\n",
    "warnings.filterwarnings(\"ignore\")\n",
    "\n",
    "from auxiliar_functions.read_data import read_data\n",
    "from auxiliar_functions.preprocessing import preprocessing, convert_to_matrix_tfidf\n",
    "from auxiliar_functions.classification import create_classifier"
   ]
  },
  {
   "cell_type": "markdown",
   "metadata": {},
   "source": [
    "#### Read data\n"
   ]
  },
  {
   "cell_type": "code",
   "execution_count": 2,
   "metadata": {},
   "outputs": [],
   "source": [
    "raw_data = read_data()\n",
    "y = raw_data.target"
   ]
  },
  {
   "cell_type": "markdown",
   "metadata": {},
   "source": [
    "#### Preprocessing\n"
   ]
  },
  {
   "cell_type": "code",
   "execution_count": 3,
   "metadata": {},
   "outputs": [
    {
     "name": "stderr",
     "output_type": "stream",
     "text": [
      "[nltk_data] Downloading package punkt to /home/mayara/nltk_data...\n",
      "[nltk_data]   Package punkt is already up-to-date!\n",
      "[nltk_data] Downloading package stopwords to /home/mayara/nltk_data...\n",
      "[nltk_data]   Package stopwords is already up-to-date!\n",
      "[nltk_data] Downloading package wordnet to /home/mayara/nltk_data...\n",
      "[nltk_data]   Package wordnet is already up-to-date!\n"
     ]
    },
    {
     "name": "stdout",
     "output_type": "stream",
     "text": [
      "['rec', 'learn', 'dev', 'suppos', 'induc', 'spec', 'brain', 'wav', 'frequ', 'u', 'simply', 'wear', 'mind', 'machin', 'consist', 'led', 'gogl', 'head', 'phon', 'microprocess', 'control', 'strobe', 'clos', 'ey', 'send', 'sound', 'pul', 'synt', 'flash', 'led', 'understand', 'dev', 'expery', 'avail', 'iv', 'heard', 'claim', 'induc', 'sleep', 'light', 'trant', 'stat', 'relax', 'es', 'suppos', 'work', 'without', 'aid', 'drug', 'etc', 'would', 'think', 'work', 'report', 'would', 'incred', 'u', 'sourc', 'iv', 'seen', 'bias', 'sel', 'thing', 'friend', 'tri', 'claim', 'every', 'hom', 'on', 'mind', 'machin', 'ak', 'light', 'sound', 'machin', 'work', 'induc', 'alph', 'thet', 'and', 'delt', 'wav', 'person', 'wear', 'research', 'don', 'could', 'u', 'lieu', 'tranquil', 'anoth', 'bit', 'quackery', 'web', 'hom']\n"
     ]
    }
   ],
   "source": [
    "data, data_for_tfidf = preprocessing(raw_data)\n",
    "print(data[0])"
   ]
  },
  {
   "cell_type": "markdown",
   "metadata": {},
   "source": [
    "#### Split data\n"
   ]
  },
  {
   "cell_type": "code",
   "execution_count": 4,
   "metadata": {},
   "outputs": [],
   "source": [
    "# Without dimensionality reduction\n",
    "(X_train, X_test, y_train, y_test) = train_test_split(data_for_tfidf, y, test_size=0.4, random_state=0)"
   ]
  },
  {
   "cell_type": "markdown",
   "metadata": {},
   "source": [
    "#### Convert data to matrix TF-IDF"
   ]
  },
  {
   "cell_type": "code",
   "execution_count": 5,
   "metadata": {},
   "outputs": [
    {
     "name": "stdout",
     "output_type": "stream",
     "text": [
      "(4031, 5889)\n"
     ]
    }
   ],
   "source": [
    "tf_train, tf_test, tfidf = convert_to_matrix_tfidf(data_for_tfidf, X_train, X_test)"
   ]
  },
  {
   "cell_type": "markdown",
   "metadata": {},
   "source": [
    "#### Visualization"
   ]
  },
  {
   "cell_type": "markdown",
   "metadata": {},
   "source": [
    "##### t-SNE"
   ]
  },
  {
   "cell_type": "markdown",
   "metadata": {},
   "source": [
    "##### MDS"
   ]
  },
  {
   "cell_type": "markdown",
   "metadata": {},
   "source": [
    "##### PCA"
   ]
  }
 ],
 "metadata": {
  "interpreter": {
   "hash": "916dbcbb3f70747c44a77c7bcd40155683ae19c65e1c03b4aa3499c5328201f1"
  },
  "kernelspec": {
   "display_name": "Python 3.8.10 64-bit",
   "language": "python",
   "name": "python3"
  },
  "language_info": {
   "codemirror_mode": {
    "name": "ipython",
    "version": 3
   },
   "file_extension": ".py",
   "mimetype": "text/x-python",
   "name": "python",
   "nbconvert_exporter": "python",
   "pygments_lexer": "ipython3",
   "version": "3.8.10"
  },
  "orig_nbformat": 4
 },
 "nbformat": 4,
 "nbformat_minor": 2
}
